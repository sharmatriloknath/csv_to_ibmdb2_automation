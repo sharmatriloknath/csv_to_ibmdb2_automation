{
 "cells": [
  {
   "cell_type": "code",
   "execution_count": 2,
   "id": "94596df3",
   "metadata": {},
   "outputs": [],
   "source": [
    "# install important libraries\n",
    "import os\n",
    "os.add_dll_directory('C:\\Program Files\\IBM\\clidriver\\\\bin')\n",
    "import pandas as pd\n",
    "import numpy as np\n",
    "import ibm_db\n",
    "from typing import List"
   ]
  },
  {
   "cell_type": "code",
   "execution_count": 3,
   "id": "0c0b65d4",
   "metadata": {},
   "outputs": [],
   "source": [
    "from configparser import ConfigParser"
   ]
  },
  {
   "cell_type": "code",
   "execution_count": 4,
   "id": "159c45eb",
   "metadata": {},
   "outputs": [],
   "source": [
    "parser = ConfigParser()\n",
    "_ = parser.read('config.cfg')"
   ]
  },
  {
   "cell_type": "code",
   "execution_count": 11,
   "id": "34245eb0",
   "metadata": {},
   "outputs": [],
   "source": [
    "# configurations of ibm db2\n",
    "host = parser.get('my_creds','host')\n",
    "dbname=parser.get('my_creds','dbname')\n",
    "username =parser.get('my_creds','user')\n",
    "password =parser.get('my_creds','password')\n",
    "port = parser.get('my_creds','port')\n",
    "\n",
    "DIR_NAME = 'Datasets'"
   ]
  },
  {
   "cell_type": "code",
   "execution_count": 6,
   "id": "dc890a59",
   "metadata": {},
   "outputs": [],
   "source": [
    "# Get All Files From The Current Directory\n",
    "def get_csv_files()->List:\n",
    "    return [file for file in os.listdir(os.getcwd()) if file.endswith('.csv')]"
   ]
  },
  {
   "cell_type": "code",
   "execution_count": 7,
   "id": "65a0cdb0",
   "metadata": {},
   "outputs": [],
   "source": [
    "# Move All Files in a directory\n",
    "def move_files_in_directory(csv_files: List, dirname:str=DIR_NAME)->None:\n",
    "    try:\n",
    "        os.system(f\"mkdir {dirname}\")\n",
    "    except:\n",
    "        print(\"Error While Creating Dir...\")\n",
    "    \n",
    "    for csv in csv_files:\n",
    "        os.system(f\"mv '{csv}' {dirname}\")\n",
    "    return"
   ]
  },
  {
   "cell_type": "code",
   "execution_count": 8,
   "id": "9c32b9f5",
   "metadata": {},
   "outputs": [],
   "source": [
    "# Read All Files and Create DF\n",
    "def create_df(csv_files: List, dirname:str):\n",
    "    path = os.getcwd()+'/'+dirname+'/'\n",
    "    df= {}\n",
    "    for file in csv_files:\n",
    "        try:\n",
    "            df[file] = pd.read_csv(data_path+file)\n",
    "        except UnicodeDecodeError:\n",
    "            df[file] = pd.read_csv(data_path+file, encoding=\"ISO-8859-1\") #if utf-8 encoding error\n",
    "    return df"
   ]
  },
  {
   "cell_type": "code",
   "execution_count": 9,
   "id": "f822ae8e",
   "metadata": {},
   "outputs": [],
   "source": [
    "# Clean Table Name\n",
    "def clean_table_name(filename: str)->str:\n",
    "    \n",
    "    #rename csv, force lower case, no spaces, no dashes\n",
    "    clean_tbl_name = filename.lower().replace(\" \", \"\").replace(\"-\",\"_\").replace(r\"/\",\"_\").replace(\"\\\\\",\"_\").replace(\"$\",\"\").replace(\"%\",\"\")\n",
    "    return f\"{clean_tbl_name.split('.')[0]}\""
   ]
  },
  {
   "cell_type": "code",
   "execution_count": 24,
   "id": "54eb1ceb",
   "metadata": {},
   "outputs": [],
   "source": [
    "# Clean Columns Name\n",
    "def clean_colname(dataframe):\n",
    "    #force column names to be lower case, no spaces, no dashes\n",
    "    dataframe.columns = [x.lower().replace(\" \", \"_\").replace(\"-\",\"_\").replace(r\"/\",\"_\").replace(\"\\\\\",\"_\").replace(\".\",\"_\").replace(\"$\",\"\").replace(\"%\",\"\") for x in dataframe.columns]\n",
    "    \n",
    "    #processing data\n",
    "    replacements = {\n",
    "        'timedelta64[ns]': 'varchar',\n",
    "        'object': 'varchar',\n",
    "        'float64': 'float',\n",
    "        'int64': 'int',\n",
    "        'datetime64': 'timestamp'\n",
    "    }\n",
    "\n",
    "    col_str = \", \".join(\"{} {}\".format(n, d) for (n, d) in zip(dataframe.columns, dataframe.dtypes.replace(replacements)))\n",
    "    return col_str, dataframe.columns"
   ]
  },
  {
   "cell_type": "code",
   "execution_count": 9,
   "id": "0fa754b4",
   "metadata": {},
   "outputs": [],
   "source": [
    "# Upload Data On Cloud\n",
    "def upload_to_db(host, dbname, user, password, tbl_name, col_str, file, dataframe, dataframe_columns):\n",
    "    conn_string = \"host=%s dbname=%s user=%s password=%s\" % (host, dbname, user, password)\n",
    "    conn = psycopg2.connect(conn_string)\n",
    "    cursor = conn.cursor()\n",
    "    print('opened database successfully')\n",
    "    \n",
    "    #drop table with same name\n",
    "    cursor.execute(\"drop table if exists %s;\" % (tbl_name))\n",
    "\n",
    "    #create table\n",
    "    cursor.execute(\"create table %s (%s);\" % (tbl_name, col_str))\n",
    "    print('{0} was created successfully'.format(tbl_name)) \n",
    "    \n",
    "    #insert values to table\n",
    "\n",
    "    #save df to csv\n",
    "    dataframe.to_csv(file, header=dataframe_columns, index=False, encoding='utf-8')\n",
    "\n",
    "    #open the csv file, save it as an object\n",
    "    my_file = open(file)\n",
    "    print('file opened in memory')\n",
    "    \n",
    "    #upload to db\n",
    "    SQL_STATEMENT = \"\"\"\n",
    "    COPY %s FROM STDIN WITH\n",
    "        CSV\n",
    "        HEADER\n",
    "        DELIMITER AS ','\n",
    "    \"\"\"\n",
    "\n",
    "    cursor.copy_expert(sql=SQL_STATEMENT % tbl_name, file=my_file)\n",
    "    print('file copied to db')\n",
    "    \n",
    "    cursor.execute(\"grant select on table %s to public\" % tbl_name)\n",
    "    conn.commit()\n",
    "    cursor.close()\n",
    "    print('table {0} imported to db completed'.format(tbl_name))\n",
    "\n",
    "    return"
   ]
  },
  {
   "cell_type": "code",
   "execution_count": 10,
   "id": "b2f2542c",
   "metadata": {},
   "outputs": [
    {
     "ename": "NameError",
     "evalue": "name 'csv_files' is not defined",
     "output_type": "error",
     "traceback": [
      "\u001b[1;31m---------------------------------------------------------------------------\u001b[0m",
      "\u001b[1;31mNameError\u001b[0m                                 Traceback (most recent call last)",
      "Input \u001b[1;32mIn [10]\u001b[0m, in \u001b[0;36m<module>\u001b[1;34m\u001b[0m\n\u001b[0;32m      1\u001b[0m \u001b[38;5;66;03m# Calling Functionality\u001b[39;00m\n\u001b[0;32m      2\u001b[0m \u001b[38;5;66;03m#configure environment and create main df\u001b[39;00m\n\u001b[1;32m----> 3\u001b[0m csv_files \u001b[38;5;241m=\u001b[39m \u001b[43mcsv_files\u001b[49m()\n\u001b[0;32m      4\u001b[0m configure_dataset_directory(csv_files, dataset_dir)\n\u001b[0;32m      5\u001b[0m df \u001b[38;5;241m=\u001b[39m create_df(dataset_dir, csv_files)\n",
      "\u001b[1;31mNameError\u001b[0m: name 'csv_files' is not defined"
     ]
    }
   ],
   "source": [
    "# Calling Functionality\n",
    "#configure environment and create main df\n",
    "csv_files = get_csv_files()\n",
    "move_files_in_directory(csv_files, dataset_dir)\n",
    "df = create_df(dataset_dir, csv_files)\n",
    "\n",
    "for file in csv_files:\n",
    "\n",
    "    #call dataframe\n",
    "    dataframe = df[file]\n",
    "\n",
    "    #clean table name\n",
    "    tbl_name = clean_tbl_name(file)\n",
    "    \n",
    "    #clean column names\n",
    "    col_str, dataframe.columns = clean_colname(dataframe)\n",
    "    \n",
    "    #upload data to db   \n",
    "    upload_to_db(host, \n",
    "                 dbname, \n",
    "                 user, \n",
    "                 password, \n",
    "                 tbl_name, \n",
    "                 col_str, \n",
    "                 file=file, \n",
    "                 dataframe=dataframe, \n",
    "                 dataframe_columns=dataframe.columns)"
   ]
  },
  {
   "cell_type": "code",
   "execution_count": 10,
   "id": "75bc39b0",
   "metadata": {},
   "outputs": [],
   "source": [
    "conn_str=f'database={dbname};hostname={host};port={port};protocol=tcpip;uid={username};pwd={password}'"
   ]
  },
  {
   "cell_type": "code",
   "execution_count": 12,
   "id": "e04de68f",
   "metadata": {},
   "outputs": [
    {
     "ename": "Exception",
     "evalue": "[IBM][CLI Driver] SQL1042C  An unexpected system error occurred.  SQLSTATE=58004\r SQLCODE=-1042",
     "output_type": "error",
     "traceback": [
      "\u001b[1;31m---------------------------------------------------------------------------\u001b[0m",
      "\u001b[1;31mException\u001b[0m                                 Traceback (most recent call last)",
      "Input \u001b[1;32mIn [12]\u001b[0m, in \u001b[0;36m<module>\u001b[1;34m\u001b[0m\n\u001b[1;32m----> 1\u001b[0m ibm_db_conn \u001b[38;5;241m=\u001b[39m \u001b[43mibm_db\u001b[49m\u001b[38;5;241;43m.\u001b[39;49m\u001b[43mconnect\u001b[49m\u001b[43m(\u001b[49m\u001b[43mconn_str\u001b[49m\u001b[43m,\u001b[49m\u001b[38;5;124;43m'\u001b[39;49m\u001b[38;5;124;43m'\u001b[39;49m\u001b[43m,\u001b[49m\u001b[38;5;124;43m'\u001b[39;49m\u001b[38;5;124;43m'\u001b[39;49m\u001b[43m)\u001b[49m\n",
      "\u001b[1;31mException\u001b[0m: [IBM][CLI Driver] SQL1042C  An unexpected system error occurred.  SQLSTATE=58004\r SQLCODE=-1042"
     ]
    }
   ],
   "source": [
    "ibm_db_conn = ibm_db.connect(conn_str,'','')"
   ]
  },
  {
   "cell_type": "code",
   "execution_count": null,
   "id": "8bf7f67a",
   "metadata": {},
   "outputs": [],
   "source": []
  },
  {
   "cell_type": "code",
   "execution_count": null,
   "id": "9214cb02",
   "metadata": {},
   "outputs": [],
   "source": []
  }
 ],
 "metadata": {
  "kernelspec": {
   "display_name": "Python 3 (ipykernel)",
   "language": "python",
   "name": "python3"
  },
  "language_info": {
   "codemirror_mode": {
    "name": "ipython",
    "version": 3
   },
   "file_extension": ".py",
   "mimetype": "text/x-python",
   "name": "python",
   "nbconvert_exporter": "python",
   "pygments_lexer": "ipython3",
   "version": "3.9.6"
  }
 },
 "nbformat": 4,
 "nbformat_minor": 5
}
